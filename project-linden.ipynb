{
 "cells": [
  {
   "cell_type": "markdown",
   "id": "8873a744",
   "metadata": {},
   "source": [
    "# Wind Exploration of Mike Trout's homerun"
   ]
  },
  {
   "cell_type": "markdown",
   "id": "57662ee2",
   "metadata": {},
   "source": [
    "This simulation will model a trajectory of Mike Trout's home run with no wind, tail wind, and head wind."
   ]
  },
  {
   "cell_type": "markdown",
   "id": "f8a71a81",
   "metadata": {},
   "source": [
    "## Research Questions:"
   ]
  },
  {
   "cell_type": "markdown",
   "id": "f968c765",
   "metadata": {},
   "source": [
    "1. How much headwind would prevent a home run?\n",
    "2. How much headwind is needed to lose 10% of distance\n",
    "3. How much tailwind is needed to gain 10% of distance?"
   ]
  },
  {
   "cell_type": "markdown",
   "id": "5de5f2e4",
   "metadata": {},
   "source": [
    "## Magnus Effect and Drag"
   ]
  },
  {
   "cell_type": "markdown",
   "id": "8d965c50",
   "metadata": {},
   "source": [
    "The Magnus effect is the force exerted by the air on a spinning ball. Backspin lifts the ball, topspin dives the ball, and side spin twists the ball left or right. \n",
    "\n",
    "$$\\vec{F}_{magnus} = \\alpha \\vec{\\omega} \\times \\vec{v}_r$$\n",
    "\n",
    "$\\alpha$ is a constant with the dimensions of mass. Since the direction of the Magnus force is perpendicular to the velocity, the ball will always curve but will not change speed if no work is present.\n",
    "\n",
    "The spin parameter is defined:\n",
    "$r$ is the radius of the ball, $omega$ is the angular velocity, and $v$ is the speed\n",
    "\n",
    "$$S = \\frac{r\\omega}{v}$$\n",
    "\n",
    "The Magnus force is written:\n",
    "\n",
    "$$\\vec{F}_{magnus} = \\frac{1}{2}C_L \\frac{\\rho A r}{S} \\vec{\\omega} \\times \\vec{v}$$\n",
    "\n",
    "The lift coefficient $C_L$ is dependent on the spin factor.\n",
    "\n",
    "$$C_L = 0.62S^{0.7}$$\n",
    "\n",
    "The drag force $F_d$ is defined as:\n",
    "\n",
    "$$\\vec{F}_{d} = -bv_r\\vec{v}_r$$\n",
    "\n",
    "\n",
    "$\\vec{vr}$ is defined as:\n",
    "\n",
    "$$\\vec{v}_{r} = \\vec{v} -  \\vec{v}_{wind}$$\n",
    "\n",
    "\n"
   ]
  },
  {
   "cell_type": "markdown",
   "id": "545b8fd4",
   "metadata": {},
   "source": [
    "## Computational Model"
   ]
  },
  {
   "cell_type": "markdown",
   "id": "8089d53b",
   "metadata": {},
   "source": [
    "This simulation of baseball is below. Run each cell in sequence to continue to the next one. The wind, tailwind, and backspin distances will return with a value. A graph will appear looking at all three scenarios. "
   ]
  },
  {
   "cell_type": "markdown",
   "id": "87006a19",
   "metadata": {},
   "source": [
    "## Assumptions"
   ]
  },
  {
   "cell_type": "markdown",
   "id": "000562ae",
   "metadata": {},
   "source": [
    "Assume that the angular velocities are constant for gravitation, drag, and Magnus force."
   ]
  },
  {
   "cell_type": "code",
   "execution_count": 1,
   "id": "d415f5d6",
   "metadata": {},
   "outputs": [],
   "source": [
    "import ode #ode.py should be in the same folder as your notebook\n",
    "import numpy as np\n",
    "import matplotlib.pyplot as plt"
   ]
  },
  {
   "cell_type": "code",
   "execution_count": 2,
   "id": "d96be5aa",
   "metadata": {},
   "outputs": [],
   "source": [
    "#parameters\n",
    "g = 9.8 #N/kg\n",
    "rho = 1.2 #kg/m^3\n",
    "mu = 1.8e-5 #kg/m/s\n",
    "r = 74e-3/2 #74 mm diameter, 9.25\" in circumference\n",
    "A = np.pi*r**2 #cross-sectional area\n",
    "Cd = 0.5 #actually depends on speed\n",
    "m = 0.145 #kg\n",
    "b2 = 1/2*Cd*rho*A #will change as Cd changes\n",
    "\n",
    "S = 0.01 #will change as omega and v change\n",
    "CL = 0 #will change with S\n",
    "alpha = 1/2*CL*rho*A*r/S\n",
    "\n",
    "# data for home run\n",
    "vmag0mph = 111.1 #mph\n",
    "thetadeg = 25 #deg\n",
    "spinrate = 1838 #rpm\n",
    "\n",
    "vwindx = 0\n",
    "vwindy = 0\n",
    "vwindz = 0\n",
    "\n",
    "# convert units and create initial conditions\n",
    "vmag0 = vmag0mph*0.44704 #convert mph to m/s\n",
    "theta = thetadeg*np.pi/180 #convert deg to rad\n",
    "\n",
    "# initial angular speed and velocity\n",
    "omegamag = spinrate * 2*np.pi / 60 #convert to rad/s\n",
    "omegax = 0\n",
    "omegay = 0\n",
    "omegaz = omegamag"
   ]
  },
  {
   "cell_type": "code",
   "execution_count": 3,
   "id": "e4a1024b",
   "metadata": {},
   "outputs": [],
   "source": [
    "def go(vwx,vwy,vwz):\n",
    "    \n",
    "    global vwindx,vwindy,vwindz\n",
    "    vwindx = vwx\n",
    "    vwindy = vwy\n",
    "    vwindz = vwz\n",
    "    \n",
    "    t = 0 #time in s\n",
    "    h = 1e-2 #time step in s\n",
    "\n",
    "    # initial position and velocity components\n",
    "    x = 0\n",
    "    y = 0\n",
    "    z = 0\n",
    "    vrx = vmag0*np.cos(theta)\n",
    "    vry = vmag0*np.sin(theta)\n",
    "    vrz = 0\n",
    "\n",
    "    # lists for storing data to graph\n",
    "    Magtlist = []\n",
    "    Magxlist = []\n",
    "    Magylist = []\n",
    "    Magzlist = []\n",
    "\n",
    "    # store initial values\n",
    "    Magtlist.append(t)\n",
    "    Magxlist.append(x)\n",
    "    Magylist.append(y)\n",
    "    Magzlist.append(z)\n",
    "\n",
    "    data = np.array([x,y,z,vrx,vry,vrz]) \n",
    "\n",
    "    # compute\n",
    "    while y >= 0: #stop when ball hits the ground\n",
    "\n",
    "        data = ode.RK4(magnus, data, t, h)\n",
    "        t = t + h\n",
    "\n",
    "        x = data[0]\n",
    "        y = data[1]\n",
    "        z = data[2]\n",
    "        Magtlist.append(t)\n",
    "        Magxlist.append(x)\n",
    "        Magylist.append(y)\n",
    "        Magzlist.append(z)\n",
    "        \n",
    "    traj = np.zeros((len(Magtlist),4))\n",
    "    traj[:,0] = Magtlist\n",
    "    traj[:,1] = Magxlist\n",
    "    traj[:,2] = Magylist\n",
    "    traj[:,3] = Magzlist\n",
    "    \n",
    "    \n",
    "    return traj"
   ]
  },
  {
   "cell_type": "code",
   "execution_count": 4,
   "id": "c46f6e0f",
   "metadata": {},
   "outputs": [],
   "source": [
    "def distance(traj):\n",
    "    d = traj[-1,1]\n",
    "    return d\n",
    "\n",
    "def ploty(traj):\n",
    "    # Plot the trajectory\n",
    "    plt.figure(figsize = (8,6))\n",
    "    plt.title(\"Trajectory\")\n",
    "    plt.xlabel(\"x (m)\")\n",
    "    plt.ylabel(\"y (m)\")\n",
    "    plt.plot(traj[:,1], traj[:,2], 'r-')\n",
    "    plt.show()\n",
    "\n",
    "def magnus(d, t):\n",
    "    \n",
    "    x = d[0]\n",
    "    y = d[1]\n",
    "    z = d[2]\n",
    "    vx = d[3]\n",
    "    vy = d[4]\n",
    "    vz = d[5]\n",
    "\n",
    "    dxdt = vx\n",
    "    dydt = vy\n",
    "    dzdt = vz\n",
    "    \n",
    "    vrx = vx-vwindx\n",
    "    vry = vy-vwindy\n",
    "    vrz = vz-vwindz\n",
    "    \n",
    "    vr = np.sqrt(vrx**2 + vry**2 + vrz**2)\n",
    "    vc = 34\n",
    "    a = 0.36\n",
    "    b = 0.14\n",
    "    c = 0.27\n",
    "    chi = (vr-vc)/4\n",
    " \n",
    "    if chi < 0 :\n",
    "        Cd = a+b/(1+np.exp(chi))-c * np.exp(-chi**2)\n",
    "    else:\n",
    "        Cd = a+b/(1+np.exp(chi))-c * np.exp(-chi**2/4)\n",
    "    \n",
    "    Fdragx = -1/2*Cd*rho*A*vr**2 * vrx/vr\n",
    "    Fdragy = -1/2*Cd*rho*A*vr**2 * vry/vr\n",
    "    Fdragz = -1/2*Cd*rho*A*vr**2 * vrz/vr\n",
    "    \n",
    "\n",
    "    S = (r*omegamag) / vr\n",
    "    CL = (0.62 * (S**0.7))\n",
    "\n",
    "    \n",
    "    FMagnusx0 = (1/2) * CL * rho * ((A * r)/S) * (omegay * vrz - omegaz * vry)\n",
    "    FMagnusy0 = (1/2) * CL * rho * ((A * r)/S) * (omegaz * vrx - omegax * vrz)\n",
    "    FMagnusz0 = (1/2) * CL * rho * ((A * r)/S) * (omegax * vry - omegay * vrx)\n",
    "    \n",
    "\n",
    "\n",
    "    Fgravy = -m*g\n",
    "    \n",
    "    Fnetx = Fdragx + FMagnusx0\n",
    "    Fnety = Fgravy + Fdragy + FMagnusy0\n",
    "    Fnetz = Fdragz + FMagnusz0\n",
    "    \n",
    "    dvxdt = Fnetx/m\n",
    "    dvydt = Fnety/m\n",
    "    dvzdt = Fnetz/m\n",
    "    \n",
    "    \n",
    "    derivs = np.array([dxdt, dydt, dzdt, dvxdt, dvydt, dvzdt])\n",
    "    \n",
    "    return derivs"
   ]
  },
  {
   "cell_type": "markdown",
   "id": "2e3791bf",
   "metadata": {},
   "source": [
    "# Validation"
   ]
  },
  {
   "cell_type": "markdown",
   "id": "596020ba",
   "metadata": {},
   "source": [
    "### No Wind"
   ]
  },
  {
   "cell_type": "code",
   "execution_count": 5,
   "id": "4b359417",
   "metadata": {},
   "outputs": [],
   "source": [
    "traj_no_wind = go(0,0,0)"
   ]
  },
  {
   "cell_type": "code",
   "execution_count": 6,
   "id": "109f76ec",
   "metadata": {
    "scrolled": true
   },
   "outputs": [
    {
     "data": {
      "text/plain": [
       "152.1215897175049"
      ]
     },
     "execution_count": 6,
     "metadata": {},
     "output_type": "execute_result"
    }
   ],
   "source": [
    "distance(traj_no_wind)"
   ]
  },
  {
   "cell_type": "markdown",
   "id": "4014440f",
   "metadata": {},
   "source": [
    "A backspin with no wind results in a distance of 152.12 meters (498.9 feet). "
   ]
  },
  {
   "cell_type": "markdown",
   "id": "83c08845",
   "metadata": {},
   "source": [
    "### Headwind"
   ]
  },
  {
   "cell_type": "code",
   "execution_count": 8,
   "id": "ae966977",
   "metadata": {},
   "outputs": [],
   "source": [
    "traj_headwind = go(-11.1*.447,0,0)"
   ]
  },
  {
   "cell_type": "code",
   "execution_count": 9,
   "id": "d39c0c28",
   "metadata": {
    "scrolled": true
   },
   "outputs": [
    {
     "data": {
      "text/plain": [
       "136.89036021399568"
      ]
     },
     "execution_count": 9,
     "metadata": {},
     "output_type": "execute_result"
    }
   ],
   "source": [
    "distance(traj_headwind)"
   ]
  },
  {
   "cell_type": "markdown",
   "id": "fc6760ed",
   "metadata": {},
   "source": [
    "A baseball that has a headwind of 11.1 mph resulted in a shorter distance of 136.89 meters. A 10 percent distance compared to no wind resulted in a wind speed of -11.1 in the x direction"
   ]
  },
  {
   "cell_type": "markdown",
   "id": "47e77d8d",
   "metadata": {},
   "source": [
    "### Tailwind"
   ]
  },
  {
   "cell_type": "code",
   "execution_count": 11,
   "id": "7a3692df",
   "metadata": {},
   "outputs": [],
   "source": [
    "traj_tailwind = go(14.2*0.447,0,0)"
   ]
  },
  {
   "cell_type": "code",
   "execution_count": 12,
   "id": "c2f586bc",
   "metadata": {},
   "outputs": [
    {
     "data": {
      "text/plain": [
       "167.3496510678226"
      ]
     },
     "execution_count": 12,
     "metadata": {},
     "output_type": "execute_result"
    }
   ],
   "source": [
    "distance(traj_tailwind)"
   ]
  },
  {
   "cell_type": "markdown",
   "id": "cb6174b6",
   "metadata": {},
   "source": [
    "A baseball with a tailwind of 14.2 resulted in a larger distance of 167.3 meters. A 10 percent distance compared to no wind resulted in a wind speed of +14.2 in the x direction."
   ]
  },
  {
   "cell_type": "markdown",
   "id": "2cdee59c",
   "metadata": {},
   "source": [
    "## Plot of all Three Scenario's"
   ]
  },
  {
   "cell_type": "code",
   "execution_count": 13,
   "id": "d6836f7d",
   "metadata": {},
   "outputs": [
    {
     "data": {
      "image/png": "[encoded data removed]",
      "text/plain": [
       "<Figure size 576x432 with 1 Axes>"
      ]
     },
     "metadata": {
      "needs_background": "light"
     },
     "output_type": "display_data"
    }
   ],
   "source": [
    "# Plot the trajectory\n",
    "plt.figure(figsize = (8,6))\n",
    "plt.title(\"Trajectory\")\n",
    "plt.xlabel(\"x (m)\")\n",
    "plt.ylabel(\"y (m)\")\n",
    "plt.plot(traj_no_wind[:,1], traj_no_wind[:,2], label=\"no wind\")\n",
    "plt.plot(traj_headwind[:,1], traj_headwind[:,2], label=\"headwind\")\n",
    "plt.plot(traj_tailwind[:,1], traj_tailwind[:,2], label=\"tailwind\")\n",
    "plt.legend()\n",
    "plt.show()"
   ]
  },
  {
   "cell_type": "markdown",
   "id": "891c1ad2",
   "metadata": {},
   "source": [
    "## Conclusion"
   ]
  },
  {
   "cell_type": "markdown",
   "id": "c215e9a9",
   "metadata": {},
   "source": [
    "We calculated and displayed a graph comparing the distance that the baseball travels when there is no wind, tailwind, and headwind. The baseball with no wind traveled 152.12 meters. When the baseball had a headwind, it traveled 136.89 meters. When the baseball had a tailwind, it traveled 167.35 meters. Overall, we expected the tailwind to travel further because the tailwind is pushing the ball forward. We confirmed this hypothesis by plotting and calculating how far the baseball would go."
   ]
  }
 ],
 "metadata": {
  "kernelspec": {
   "display_name": "Python 3 (ipykernel)",
   "language": "python",
   "name": "python3"
  },
  "language_info": {
   "codemirror_mode": {
    "name": "ipython",
    "version": 3
   },
   "file_extension": ".py",
   "mimetype": "text/x-python",
   "name": "python",
   "nbconvert_exporter": "python",
   "pygments_lexer": "ipython3",
   "version": "3.9.7"
  }
 },
 "nbformat": 4,
 "nbformat_minor": 5
}
