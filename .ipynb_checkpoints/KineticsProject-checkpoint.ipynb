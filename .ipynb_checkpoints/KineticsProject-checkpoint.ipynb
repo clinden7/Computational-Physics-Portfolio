{
 "cells": [
  {
   "cell_type": "markdown",
   "id": "cee87dfb",
   "metadata": {},
   "source": [
    "# Kinetics Exploration"
   ]
  },
  {
   "cell_type": "markdown",
   "id": "c1de997b",
   "metadata": {},
   "source": [
    "Enzymes are biological entities (usually proteins) that dramatically accelerate almost all chemical processes occurring within cells. They are necessary for life and perform various critical functions in the body, including digestion and metabolism. Without enzymes, many chemical reactions in the body would not occur rapidly enough to sustain life. Enzymes are giant organic molecules that function as biological catalysts, speeding up reactions. For instance, an enzyme that acts on lipids is lipase. As with other catalysts, enzymes work by lowering the activation energy of a specific reaction without being consumed in the reaction. They do so by adhering to the substrate. Since enzymes are often more significant than their substrates, binding occurs on a single region of the enzyme molecule termed the catalytic site. The reaction begins after the substrate is bonded and the newly produced product is released."
   ]
  },
  {
   "cell_type": "markdown",
   "id": "9cfea0cf",
   "metadata": {},
   "source": [
    "**Enzyme + Substrate --> enzyme-substrate somplex --> Enzyme + Product**"
   ]
  },
  {
   "cell_type": "markdown",
   "id": "71d30cec",
   "metadata": {},
   "source": [
    "After that, the resultant enzyme is free to attach to another substrate molecule, and the process is repeated. The turnover number of an enzyme refers to the number of substrate molecules that can be bound and reacted every minute. For example, catalase, which converts hydrogen peroxide to water and oxygen gas, has a five million-fold turnover rate. This indicates that each enzyme molecule may degrade five million hydrogen peroxide molecules in a minute."
   ]
  },
  {
   "cell_type": "markdown",
   "id": "8997035c",
   "metadata": {},
   "source": [
    "***"
   ]
  },
  {
   "cell_type": "markdown",
   "id": "48d63880",
   "metadata": {},
   "source": [
    "## Research Question"
   ]
  },
  {
   "cell_type": "markdown",
   "id": "8812b51e",
   "metadata": {},
   "source": [
    "**Is it possible to model the velocity of the reaction of an enzyme at a range of concentrations? What do we expect this to look like?** "
   ]
  },
  {
   "cell_type": "markdown",
   "id": "a72f0064",
   "metadata": {},
   "source": [
    "***"
   ]
  },
  {
   "cell_type": "markdown",
   "id": "10a7393c",
   "metadata": {},
   "source": [
    "#### The deferential equations are: "
   ]
  },
  {
   "cell_type": "markdown",
   "id": "96232fb9",
   "metadata": {},
   "source": [
    "- $d[S]/dt = -K_{1}[S][S]+K_{2}[ES]$\n",
    "\n",
    "- $d[P]/dt = K_{3}[ES]-K_{4}[E][P]$\n",
    "\n",
    "- $d[E]/dt = -K_{1}[E][S]+K_{2}[E][S]+K_{3}[ES]-K_{4}[E][P]$\n",
    "\n",
    "- $d[ES]/dt = K_{1}[E][S]-K_{2}[ES-K_{3}[ES]+K_{4}[E][P]$\n",
    "\n",
    "\n",
    "- $k_{1}$ is the rate of the change of substrate S in the presence of enzyme E to intermediate ES\n",
    "- $k_{2}$ is the reverse rate of change of intermediate ES back to Substrate\n",
    "- $k_{3}$ is the rate of change of ES to Product and Enzyme\n",
    "- $k_{4}$ is the reverse rate of change of Product and Enzyme back to ES"
   ]
  },
  {
   "cell_type": "markdown",
   "id": "f1d14595",
   "metadata": {},
   "source": [
    "#### Assumptions:"
   ]
  },
  {
   "cell_type": "markdown",
   "id": "d76d3689",
   "metadata": {},
   "source": [
    "- $k_{4}$ is negligible\n",
    "- $k_{3}$ is 0.002 $\\frac{1}{S}$\n",
    "- $k_{2}$ is 0.1 $\\frac{1}{S}$\n",
    "- $k_{1}$ is 0.05 $\\frac{1}{S}$"
   ]
  },
  {
   "cell_type": "markdown",
   "id": "b0bb10c4",
   "metadata": {},
   "source": [
    "***"
   ]
  },
  {
   "cell_type": "markdown",
   "id": "6d6507b2",
   "metadata": {},
   "source": [
    "The following must be imported to effectively model the system: "
   ]
  },
  {
   "cell_type": "code",
   "execution_count": 1,
   "id": "b41e411a",
   "metadata": {},
   "outputs": [
    {
     "data": {
      "text/html": [
       "<div id=\"glowscript\" class=\"glowscript\"></div>"
      ],
      "text/plain": [
       "<IPython.core.display.HTML object>"
      ]
     },
     "metadata": {},
     "output_type": "display_data"
    },
    {
     "data": {
      "application/javascript": [
       "if (typeof Jupyter !== \"undefined\") { window.__context = { glowscript_container: $(\"#glowscript\").removeAttr(\"id\")};}else{ element.textContent = ' ';}"
      ],
      "text/plain": [
       "<IPython.core.display.Javascript object>"
      ]
     },
     "metadata": {},
     "output_type": "display_data"
    }
   ],
   "source": [
    "import ode\n",
    "import numpy as np\n",
    "import matplotlib.pyplot as plt\n",
    "from vpython import *"
   ]
  },
  {
   "cell_type": "code",
   "execution_count": 2,
   "id": "79707b2d",
   "metadata": {},
   "outputs": [],
   "source": [
    "def enzyme_kinetics(dep,t):\n",
    "    E = dep[0]\n",
    "    S = dep[1]\n",
    "    ES = dep[2]\n",
    "    P = dep[3]\n",
    "    \n",
    "    deriv = np.zeros(4)\n",
    "    deriv[0] = -k1*E*S + k2*ES + k3*ES - k4*E*P #dE/dt\n",
    "    deriv[1] = -k1*E*S + k2*ES #dS/dt\n",
    "    deriv[2] = k1*E*S - k2*ES - k3*ES + k4*E*P #dES/dt\n",
    "    deriv[3] = k3*ES - k4*E*P #dP/dt\n",
    "\n",
    "    return deriv \n"
   ]
  },
  {
   "cell_type": "code",
   "execution_count": 10,
   "id": "7363177f",
   "metadata": {},
   "outputs": [],
   "source": [
    "k1 = 0.05 #1/s\n",
    "k2 = 0.1 #1/s\n",
    "k3 = 0.02 #1/s\n",
    "k4 = 0 #1/s\n",
    "\n",
    "S0 = 1 #mM\n",
    "P0 = 0 #mM\n",
    "E0 = 10 #mM\n",
    "ES0 = 0 #mM\n",
    "data = np.array([E0,S0,ES0,P0]) #initialize array to store dependent variables\n",
    "\n",
    "#independent variables\n",
    "t = 0\n",
    "h = 0.05\n",
    "Nsteps = int(500/h) #N steps for T seconds of evolution\n",
    "\n",
    "#create arrays\n",
    "tarray = np.zeros(Nsteps)\n",
    "Sarray = np.zeros(Nsteps)\n",
    "Earray = np.zeros(Nsteps)\n",
    "ESarray = np.zeros(Nsteps)\n",
    "Parray = np.zeros(Nsteps)\n",
    "dpdtarray = np.zeros(Nsteps)\n",
    "\n",
    "tarray[0] = t\n",
    "Sarray[0] = S0\n",
    "Earray[0] = E0\n",
    "ESarray[0] = ES0\n",
    "Parray[0] = P0\n",
    "dpdtarray[0] = k3*ES0 - k4*E0*P0\n",
    "\n",
    "#create a time evolution loop\n",
    "for n in range(1,Nsteps):\n",
    "\n",
    "    data = ode.RK4(enzyme_kinetics, data, t, h) #update [substrate, product\n",
    "\n",
    "    t = t + h #update time\n",
    "\n",
    "    #store values in arrays\n",
    "    E = data[0]\n",
    "    S = data[1]\n",
    "    ES = data[2]\n",
    "    P = data[3]\n",
    "\n",
    "    tarray[n] = t #storing time\n",
    "    Earray[n] = E #store enzyme  \n",
    "    Sarray[n] = S #store substrate\n",
    "    ESarray[n] = ES #store complex\n",
    "    Parray[n] = P #store product\n",
    "    dpdtarray[n] = k3*ES - k4*E*P\n"
   ]
  },
  {
   "cell_type": "code",
   "execution_count": 11,
   "id": "65954719",
   "metadata": {},
   "outputs": [
    {
     "data": {
      "text/plain": [
       "[<matplotlib.lines.Line2D at 0x7f941ddb8cd0>]"
      ]
     },
     "execution_count": 11,
     "metadata": {},
     "output_type": "execute_result"
    },
    {
     "data": {
      "image/png": "[encoded data removed]",
      "text/plain": [
       "<Figure size 432x288 with 1 Axes>"
      ]
     },
     "metadata": {
      "needs_background": "light"
     },
     "output_type": "display_data"
    }
   ],
   "source": [
    "plt.title(\"Product vs. time\")\n",
    "plt.plot(tarray,Parray)"
   ]
  },
  {
   "cell_type": "code",
   "execution_count": 3,
   "id": "7f399a6e",
   "metadata": {},
   "outputs": [],
   "source": [
    "def go(S0):\n",
    "\n",
    "#S0 = 1 #mM\n",
    "    P0 = 0 #mM\n",
    "    E0 = 10 #mM\n",
    "    ES0 = 0 #mM\n",
    "    data = np.array([E0,S0,ES0,P0]) #initialize array to store dependent variables\n",
    "\n",
    "    #independent variables\n",
    "    t = 0\n",
    "    h = 0.05\n",
    "    Nsteps = int(30/h) #N steps for T seconds of evolution\n",
    "\n",
    "    #create arrays\n",
    "    tarray = np.zeros(Nsteps)\n",
    "    Sarray = np.zeros(Nsteps)\n",
    "    Earray = np.zeros(Nsteps)\n",
    "    ESarray = np.zeros(Nsteps)\n",
    "    Parray = np.zeros(Nsteps)\n",
    "    dpdtarray = np.zeros(Nsteps)\n",
    "\n",
    "    tarray[0] = t\n",
    "    Sarray[0] = S0\n",
    "    Earray[0] = E0\n",
    "    ESarray[0] = ES0\n",
    "    Parray[0] = P0\n",
    "    dpdtarray[0] = k3*ES0 - k4*E0*P0\n",
    "\n",
    "    #create a time evolution loop\n",
    "    for n in range(1,Nsteps):\n",
    "\n",
    "        data = ode.RK4(enzyme_kinetics, data, t, h) #update [substrate, product\n",
    "\n",
    "        t = t + h #update time\n",
    "\n",
    "        #store values in arrays\n",
    "        E = data[0]\n",
    "        S = data[1]\n",
    "        ES = data[2]\n",
    "        P = data[3]\n",
    "\n",
    "        tarray[n] = t #storing time\n",
    "        Earray[n] = E #store enzyme  \n",
    "        Sarray[n] = S #store substrate\n",
    "        ESarray[n] = ES #store complex\n",
    "        Parray[n] = P #store product\n",
    "        dpdtarray[n] = k3*ES - k4*E*P\n",
    "\n",
    "    return np.amax(dpdtarray)"
   ]
  },
  {
   "cell_type": "markdown",
   "id": "0c8576ec",
   "metadata": {},
   "source": [
    "The graph below models the rate of change formation (dP/dt) minus the rate of change of removal of [P]\n",
    "- $K_{3}[ES]-k_{4}[E][P]$\n",
    "\n",
    "The enzyme concentration was determined by generating values between 2 and 100.\n",
    "\n",
    "The rate of [P] approaches a limit, as shown on the graph\n",
    "\n",
    "\n"
   ]
  },
  {
   "cell_type": "code",
   "execution_count": 4,
   "id": "da4f548e",
   "metadata": {},
   "outputs": [
    {
     "data": {
      "image/png": "[encoded data removed]",
      "text/plain": [
       "<Figure size 432x288 with 1 Axes>"
      ]
     },
     "metadata": {
      "needs_background": "light"
     },
     "output_type": "display_data"
    }
   ],
   "source": [
    "k1 = 0.05 #1/s\n",
    "k2 = 0.1 #1/s\n",
    "k3 = 0.02 #1/s\n",
    "k4 = 0 #1/s\n",
    "\n",
    "dpdtmaxdata = []\n",
    "S0array = np.arange(2,100,2)\n",
    "\n",
    "for S0 in S0array:\n",
    "    dpdtmax = go(S0)\n",
    "    dpdtmaxdata.append(dpdtmax)\n",
    "\n",
    "fig = plt.figure()\n",
    "plt.title(\"dP/dt max vs S0\")\n",
    "plt.plot(S0array, dpdtmaxdata, 'b-')\n",
    "plt.xlabel('S0 (mM)')\n",
    "plt.ylabel('dP/dt max (mM/s)')\n",
    "plt.show()"
   ]
  },
  {
   "cell_type": "markdown",
   "id": "9eb58f37",
   "metadata": {},
   "source": [
    "The graph above models the rate of change formation (dP/dt) minus the rate of change of removal of [P]\n",
    "- $K_{3}[ES]-k_{4}[E][P]$\n",
    "\n",
    "The enzyme concentration was determined by generating values between 2 and 100.\n",
    "\n",
    "The rate of [P] approaches a limit, as shown on the graph"
   ]
  },
  {
   "cell_type": "markdown",
   "id": "42207a79",
   "metadata": {},
   "source": [
    "## Validation "
   ]
  },
  {
   "cell_type": "code",
   "execution_count": null,
   "id": "083f54ca",
   "metadata": {},
   "outputs": [],
   "source": [
    "Vmax = np.amax(dpdtmaxdata)\n",
    "Vmax"
   ]
  },
  {
   "cell_type": "markdown",
   "id": "e75887ff",
   "metadata": {},
   "source": [
    "## Conclusion"
   ]
  },
  {
   "cell_type": "markdown",
   "id": "5303ef7c",
   "metadata": {},
   "source": [
    "In this project, the rate of change formation (dP/dt) minus the rate of change of removal of [P] was shown and displayed using a graph. We expected the maximum value to be 0.1946 mM which was confirmed by finding the maximum value from the graph.\n",
    "\n",
    "Overall the results agree with what we expected."
   ]
  },
  {
   "cell_type": "code",
   "execution_count": null,
   "id": "c569ac2c",
   "metadata": {},
   "outputs": [],
   "source": []
  }
 ],
 "metadata": {
  "kernelspec": {
   "display_name": "Python 3 (ipykernel)",
   "language": "python",
   "name": "python3"
  },
  "language_info": {
   "codemirror_mode": {
    "name": "ipython",
    "version": 3
   },
   "file_extension": ".py",
   "mimetype": "text/x-python",
   "name": "python",
   "nbconvert_exporter": "python",
   "pygments_lexer": "ipython3",
   "version": "3.9.7"
  }
 },
 "nbformat": 4,
 "nbformat_minor": 5
}
